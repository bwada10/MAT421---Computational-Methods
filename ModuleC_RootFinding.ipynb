{
  "nbformat": 4,
  "nbformat_minor": 0,
  "metadata": {
    "colab": {
      "provenance": [],
      "authorship_tag": "ABX9TyPhhEN4WSUcfPHYvQfZ9lpS",
      "include_colab_link": true
    },
    "kernelspec": {
      "name": "python3",
      "display_name": "Python 3"
    },
    "language_info": {
      "name": "python"
    }
  },
  "cells": [
    {
      "cell_type": "markdown",
      "metadata": {
        "id": "view-in-github",
        "colab_type": "text"
      },
      "source": [
        "<a href=\"https://colab.research.google.com/github/bwada10/MAT421---Computational-Methods/blob/main/ModuleC_RootFinding.ipynb\" target=\"_parent\"><img src=\"https://colab.research.google.com/assets/colab-badge.svg\" alt=\"Open In Colab\"/></a>"
      ]
    },
    {
      "cell_type": "markdown",
      "source": [
        "**Chapter 19 - Root Finding**\n",
        "\n",
        "**19.1: Root Finding Problem Statement**\n",
        "\n",
        "The **root** or **zero** of a function attains the value **0** at *x*, or equivalently, *x* is the solution to the equation of *f(x) = 0.*\n",
        "\n",
        "\n",
        "---\n",
        "\n",
        "\n",
        "> *Find the root of f(x) = sin(x) - x near -2:*\n",
        "\n",
        "\n"
      ],
      "metadata": {
        "id": "JxF6dJpWoBDy"
      }
    },
    {
      "cell_type": "code",
      "source": [
        "import numpy as np\n",
        "from scipy import optimize\n",
        "\n",
        "f = lambda x: np.sin(x) - x\n",
        "r = optimize.fsolve(f, -2)\n",
        "print(\"r =\", r)\n",
        "\n",
        "# Verify the solution is a root\n",
        "result = f(r)\n",
        "print(\"result=\", result)"
      ],
      "metadata": {
        "colab": {
          "base_uri": "https://localhost:8080/"
        },
        "id": "OFznkhVRtePE",
        "outputId": "ee7c95be-185a-482d-9921-38eabe5f591c"
      },
      "execution_count": null,
      "outputs": [
        {
          "output_type": "stream",
          "name": "stdout",
          "text": [
            "r = [-2.0855224e-08]\n",
            "result= [0.]\n"
          ]
        }
      ]
    },
    {
      "cell_type": "markdown",
      "source": [
        "The above example shows the root of a function using python. How about a function that does **not** have a root?\n",
        "\n",
        "---\n",
        "\n",
        "\n",
        "\n",
        "> *Find the root of f(x) = 1/x:*\n",
        "\n"
      ],
      "metadata": {
        "id": "dANVG29Ayooe"
      }
    },
    {
      "cell_type": "code",
      "source": [
        "f = lambda x: 1/x\n",
        "\n",
        "r, infodict, ier, mesg = optimize.fsolve(f, -2, full_output=True)\n",
        "print(\"r =\", r)\n",
        "\n",
        "result = f(r)\n",
        "print(\"result=\", result)\n",
        "\n",
        "print(mesg)"
      ],
      "metadata": {
        "colab": {
          "base_uri": "https://localhost:8080/"
        },
        "id": "vxn5lW6azleN",
        "outputId": "1fb62e76-3742-461c-ea78-f67f86356827"
      },
      "execution_count": null,
      "outputs": [
        {
          "output_type": "stream",
          "name": "stdout",
          "text": [
            "r = [-3.52047359e+83]\n",
            "result= [-2.84052692e-84]\n",
            "The number of calls to function has reached maxfev = 400.\n"
          ]
        }
      ]
    },
    {
      "cell_type": "markdown",
      "source": [
        "As seen from above, the root is very small, but that is the not the root. The message displays the cuase of failure."
      ],
      "metadata": {
        "id": "xpvF2XVc0W5v"
      }
    },
    {
      "cell_type": "markdown",
      "source": [
        "**19.2: Tolerance**\n",
        "\n",
        "Deviation from the expected value or computed value is **error** and the level of error that is acceptable is **tolerance**. When a computer program identifies a solution with the error less than the tolerance then we say it has **converged**.\n",
        "\n",
        "---\n",
        "\n",
        "> *Determine if the function, f(x) = x^3 + (TOL)/3, falls within tolerance:*\n",
        "\n"
      ],
      "metadata": {
        "id": "eQOrxmSe0-RK"
      }
    },
    {
      "cell_type": "markdown",
      "source": [
        "> Let **Error** be measured by **e** = |f(x)| and TOL be the acceptable level of error. Clearly, when |f(0)| = (0)^3 + (TOL)/3 = (TOL)/3 and therefore acceptable as a solution for a root finding program.\n",
        "\n",
        "\n",
        "\n",
        "\n"
      ],
      "metadata": {
        "id": "qidGncf5Ix5g"
      }
    },
    {
      "cell_type": "markdown",
      "source": [
        "**19.3: Bisection Method**\n",
        "\n",
        "The **Intermediate Value Theorem** states that if f(x) is a continous function between *a* and *b* where f(a) =/= f(b), then there exist *c* such that *a < c < b* and f(c) = 0.\n",
        "\n",
        "The **Bisection Method** utilizes the Intermediate Value Theorem to identify roots by finding the midpoint of scalar values *a* and *b*, [m = a+b/2], where if f(m) = 0 or close enough, then *m* is a root.\n",
        "\n",
        "---\n",
        "\n",
        "\n",
        "> *Find the root of f(x) = x^2 - 8 by approximating the root of function f, bounded by a = 0 and b = 8 within a tolerance of |f(x)| < 0.1 and |f(x)| < 0.01:* "
      ],
      "metadata": {
        "id": "IjXGWlHgKnuj"
      }
    },
    {
      "cell_type": "code",
      "source": [
        "import numpy as np\n",
        "\n",
        "def my_bisection(f, a, b, tol): \n",
        "    # approximates a root, R, of f bounded \n",
        "    # by a and b to within tolerance \n",
        "    # | f(m) | < tol with m the midpoint \n",
        "    # between a and b Recursive implementation\n",
        "    \n",
        "    # check if a and b bound a root\n",
        "    if np.sign(f(a)) == np.sign(f(b)):\n",
        "        raise Exception(\n",
        "         \"The scalars a and b do not bound a root\")\n",
        "        \n",
        "    # get midpoint\n",
        "    m = (a + b)/2\n",
        "    \n",
        "    if np.abs(f(m)) < tol:\n",
        "        # stopping condition, report m as root\n",
        "        return m\n",
        "    elif np.sign(f(a)) == np.sign(f(m)):\n",
        "        # case where m is an improvement on a. \n",
        "        # Make recursive call with a = m\n",
        "        return my_bisection(f, m, b, tol)\n",
        "    elif np.sign(f(b)) == np.sign(f(m)):\n",
        "        # case where m is an improvement on b. \n",
        "        # Make recursive call with b = m\n",
        "        return my_bisection(f, a, m, tol)"
      ],
      "metadata": {
        "id": "XHXbuZvQEP28"
      },
      "execution_count": 1,
      "outputs": []
    },
    {
      "cell_type": "code",
      "source": [
        "f = lambda x: x**2 - 8\n",
        "\n",
        "r1 = my_bisection(f, 0, 8, 0.1)\n",
        "print(\"r1 =\", r1)\n",
        "r01 = my_bisection(f, 0, 8, 0.01)\n",
        "print(\"r01 =\", r01)\n",
        "\n",
        "print(\"f(r1) =\", f(r1))\n",
        "print(\"f(r01) =\", f(r01))"
      ],
      "metadata": {
        "colab": {
          "base_uri": "https://localhost:8080/"
        },
        "id": "ip0IDoxbEbsi",
        "outputId": "1bcb82e6-73c2-45be-c045-a8c3dff42a86"
      },
      "execution_count": 31,
      "outputs": [
        {
          "output_type": "stream",
          "name": "stdout",
          "text": [
            "r1 = 2.8125\n",
            "r01 = 2.828125\n",
            "f(r1) = -0.08984375\n",
            "f(r01) = -0.001708984375\n"
          ]
        }
      ]
    },
    {
      "cell_type": "markdown",
      "source": [
        "As seen from the results from above, we have identified the root."
      ],
      "metadata": {
        "id": "RQrXZj_2IIM-"
      }
    },
    {
      "cell_type": "markdown",
      "source": [
        "**19.4: Newton-Raphson Method**\n",
        "\n",
        "The **Newton-Raphson Method** of finding roots iterates **Newton Steps** from x_0 until the error is less than the tolerance, where **Newton Steps** computes an improved guess, x_i, using a previous guess x_i-1 given by the equation:\n",
        "\n",
        "*x_i = x_i-1 - g(x_i-1)/g'(x_i-1)*\n",
        "\n",
        "\n",
        "---\n",
        "\n",
        "\n",
        "\n",
        "> *Find the estimation of the root of function f(x) = x^2 - 8 using x_0 = 2.5, within tolerance of 1e-6:*\n",
        "\n"
      ],
      "metadata": {
        "id": "vAc_UvYXIWFZ"
      }
    },
    {
      "cell_type": "code",
      "source": [
        "f_prime = lambda x: 2*x\n",
        "def my_newton(f, df, x0, tol):\n",
        "    # output is an estimation of the root of f \n",
        "    # using the Newton Raphson method\n",
        "    # recursive implementation\n",
        "    if abs(f(x0)) < tol:\n",
        "        return x0\n",
        "    else:\n",
        "        return my_newton(f, df, x0 - f(x0)/df(x0), tol)"
      ],
      "metadata": {
        "id": "kc7T6O1mQsds"
      },
      "execution_count": 34,
      "outputs": []
    },
    {
      "cell_type": "code",
      "source": [
        "estimate = my_newton(f, f_prime, 2.5, 1e-6)\n",
        "print(\"estimate =\", estimate)\n",
        "print(\"sqrt(8) =\", np.sqrt(8))"
      ],
      "metadata": {
        "colab": {
          "base_uri": "https://localhost:8080/"
        },
        "id": "GrcpcLCbROTC",
        "outputId": "7e7f3de6-da5e-49e2-888b-fecfd97d0395"
      },
      "execution_count": 35,
      "outputs": [
        {
          "output_type": "stream",
          "name": "stdout",
          "text": [
            "estimate = 2.828427125924596\n",
            "sqrt(8) = 2.8284271247461903\n"
          ]
        }
      ]
    },
    {
      "cell_type": "markdown",
      "source": [
        "**19.5: Root Finding In Python**\n",
        "\n",
        "In Python, there is built-in functions, *fsolve*, that will find the roots for us via code.\n",
        "\n",
        "\n",
        "---\n",
        "\n",
        "\n",
        "> *Find the root of the function f(x) = x^3 - 50x^2 - x + 50:*\n",
        "\n",
        "\n"
      ],
      "metadata": {
        "id": "N26PCDCYawqa"
      }
    },
    {
      "cell_type": "code",
      "source": [
        "from scipy.optimize import fsolve\n",
        "f = lambda x: x**3-50*x**2-x+50\n",
        "\n",
        "fsolve(f, [2, 80])"
      ],
      "metadata": {
        "colab": {
          "base_uri": "https://localhost:8080/"
        },
        "id": "L-ZLBI8_eSEU",
        "outputId": "d8c7e50d-6563-4d9b-e94e-e390bd3c7faa"
      },
      "execution_count": 38,
      "outputs": [
        {
          "output_type": "execute_result",
          "data": {
            "text/plain": [
              "array([ 1., 50.])"
            ]
          },
          "metadata": {},
          "execution_count": 38
        }
      ]
    }
  ]
}