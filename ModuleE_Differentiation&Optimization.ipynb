{
  "nbformat": 4,
  "nbformat_minor": 0,
  "metadata": {
    "colab": {
      "provenance": [],
      "authorship_tag": "ABX9TyOUFnfb6uUU98FwNUam5sSV",
      "include_colab_link": true
    },
    "kernelspec": {
      "name": "python3",
      "display_name": "Python 3"
    },
    "language_info": {
      "name": "python"
    }
  },
  "cells": [
    {
      "cell_type": "markdown",
      "metadata": {
        "id": "view-in-github",
        "colab_type": "text"
      },
      "source": [
        "<a href=\"https://colab.research.google.com/github/bwada10/MAT421---Computational-Methods/blob/main/ModuleE_Differentiation%26Optimization.ipynb\" target=\"_parent\"><img src=\"https://colab.research.google.com/assets/colab-badge.svg\" alt=\"Open In Colab\"/></a>"
      ]
    },
    {
      "cell_type": "markdown",
      "source": [
        "**Chapter 3 - Differentiation And Optimization**\n",
        "\n",
        "**3.2: Continuity And Differentiation**\n",
        "\n",
        "In data science and machine learning, many algorithms aim to improve a model's ability to explain the data by adjusting certain parameters in the optimization of an objective function.\n",
        "\n",
        "The **limit** of a function at a point is the value that the function approaches as the input values get arbitrarily close to that point.\n",
        "\n",
        "---\n",
        "\n",
        "\n",
        "\n",
        "> *Find the limit of the function f(x) = 1/x^2:*\n",
        "\n"
      ],
      "metadata": {
        "id": "6CGVsP5TIO4I"
      }
    },
    {
      "cell_type": "code",
      "source": [
        "from sympy import limit, oo, Symbol\n",
        "x = Symbol('x') #Let x be arbitrary\n",
        "y = 1/x**2  #y = f(x)\n",
        "limit(y, x, oo) #Find the limit"
      ],
      "metadata": {
        "colab": {
          "base_uri": "https://localhost:8080/",
          "height": 37
        },
        "id": "v1bvqFKRlA1d",
        "outputId": "5039e70d-9e20-473f-c1e2-4b7bf5d3f6b0"
      },
      "execution_count": null,
      "outputs": [
        {
          "output_type": "execute_result",
          "data": {
            "text/plain": [
              "0"
            ],
            "text/latex": "$\\displaystyle 0$"
          },
          "metadata": {},
          "execution_count": 7
        }
      ]
    },
    {
      "cell_type": "markdown",
      "source": [
        "**Derivatives** is a concept that measures the rate of change of a function at a given point. It is a way to describe how a function changes as its input values change.\n",
        "\n",
        "\n",
        "---\n",
        "\n",
        "\n",
        "\n",
        "> *Find the derivative of the function f(x) = 1/x^2 + 100:*\n",
        "\n"
      ],
      "metadata": {
        "id": "T8k7WFX9lktw"
      }
    },
    {
      "cell_type": "code",
      "source": [
        "from sympy import *\n",
        "import numpy as np\n",
        "x = Symbol('x') #Let x be arbitrary\n",
        "y = 1/x**2 + 100  #y = f(x)\n",
        "yprime = y.diff(x)  #Take the derivative of 'y'\n",
        "yprime"
      ],
      "metadata": {
        "colab": {
          "base_uri": "https://localhost:8080/",
          "height": 51
        },
        "id": "KMLo_42Kl9jO",
        "outputId": "e59c8313-0c54-480b-cffe-a6a7a6ff1bc6"
      },
      "execution_count": null,
      "outputs": [
        {
          "output_type": "execute_result",
          "data": {
            "text/plain": [
              "-2/x**3"
            ],
            "text/latex": "$\\displaystyle - \\frac{2}{x^{3}}$"
          },
          "metadata": {},
          "execution_count": 9
        }
      ]
    },
    {
      "cell_type": "markdown",
      "source": [
        "**3.3: Unconstrained Optimization**\n",
        "\n",
        "**Unconstrained optimization** is where there are no constraints on the possible values of the solution. The goal is to find the maximum or minimum value of an objective function subject to no restrictions. \n",
        "\n",
        "A **convex function** is a real-valued function defined on an interval with the property that the line segment between any two points on the graph of the function lies above or on the graph. So, it is always \"above\" its tangent lines, meaning that its slope never decreases.\n",
        "\n",
        "---\n",
        "\n",
        "> *Show the relationship between a convex function and its tangent lines:*\n",
        "\n"
      ],
      "metadata": {
        "id": "_7M8RjzImh6P"
      }
    },
    {
      "cell_type": "code",
      "source": [
        "import numpy as np    #Import numbers python package\n",
        "import matplotlib.pyplot as plt   #Import math plot library package\n",
        "\n",
        "x=np.linspace(1,10,50)    #Plots log function from x = 1 to x = 10 with 50 evenly spaced samples\n",
        "f=np.log(x)   #Log function\n",
        "\n",
        "plt.plot(x,f,color=(1,0,1))   #Plots the function with x as input and f as output\n",
        "plt.grid()\n",
        "plt.xlabel('x')   \n",
        "plt.ylabel('ln(x)')\n",
        "\n",
        "a=3   \n",
        "b=9   \n",
        "lam = 0.5\n",
        "c = lam * a + (1-lam)*b\n",
        "\n",
        "fa = np.log(a)    #Convex combinations\n",
        "fb = np.log(b)\n",
        "fc = np.log(c)\n",
        "fcc = lam *fa+(1-lam)*fb\n",
        "\n",
        "plt.plot([a,a], [0,fa])   #Plot convex combinations (vertical lines)\n",
        "plt.plot([b,b], [0,fb])\n",
        "plt.plot([c,c], [0,fc])\n",
        "plt.plot([c,c], [0, fcc])\n",
        "plt.plot([a,b], [fa,fb])"
      ],
      "metadata": {
        "colab": {
          "base_uri": "https://localhost:8080/",
          "height": 296
        },
        "id": "m5Kozk4gGHLh",
        "outputId": "350b9a68-f3b0-452f-8d1c-5e445ad11e32"
      },
      "execution_count": 9,
      "outputs": [
        {
          "output_type": "execute_result",
          "data": {
            "text/plain": [
              "[<matplotlib.lines.Line2D at 0x7fbf3409e460>]"
            ]
          },
          "metadata": {},
          "execution_count": 9
        },
        {
          "output_type": "display_data",
          "data": {
            "text/plain": [
              "<Figure size 432x288 with 1 Axes>"
            ],
            "image/png": "[encoded data removed]"
          },
          "metadata": {
            "needs_background": "light"
          }
        }
      ]
    }
  ]
}