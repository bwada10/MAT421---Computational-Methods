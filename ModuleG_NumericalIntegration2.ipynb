{
  "nbformat": 4,
  "nbformat_minor": 0,
  "metadata": {
    "colab": {
      "provenance": [],
      "authorship_tag": "ABX9TyO7GWTvWLjXo24IbOVA5Tyh",
      "include_colab_link": true
    },
    "kernelspec": {
      "name": "python3",
      "display_name": "Python 3"
    },
    "language_info": {
      "name": "python"
    }
  },
  "cells": [
    {
      "cell_type": "markdown",
      "metadata": {
        "id": "view-in-github",
        "colab_type": "text"
      },
      "source": [
        "<a href=\"https://colab.research.google.com/github/bwada10/MAT421---Computational-Methods/blob/main/ModuleG_NumericalIntegration2.ipynb\" target=\"_parent\"><img src=\"https://colab.research.google.com/assets/colab-badge.svg\" alt=\"Open In Colab\"/></a>"
      ]
    },
    {
      "cell_type": "markdown",
      "source": [
        "**Chapter 21 - Numerical Integration**\n",
        "\n",
        "**Numerical Integration** is a method to approximate the definite integral of a function. The objective is to approximate the \"area under the curve\". The idea of numerical integration is to approximate the integral bu summing the area of a large number of small rectangles or trapezoids by spliting the areas under the curve into small segments.\n",
        "\n",
        "\n",
        "---\n",
        "\n",
        "**21.4: Simpson's Rule:**\n",
        "\n",
        "**Simpson's Rule** approximates the area under $f(x)$ over two subintervals by fitting a quadratic polynomial through the points $(x_{i-1}, f(x_{i-1})), (x_i, f(x_i)),$ and $(x_{i+1}, f(x_{i+1}))$.\n",
        "\n",
        "\n",
        "---\n",
        "\n",
        "> *Approximate $∫_0^{π}cos(x)dx$ with 13 evenly spaced grid points over the whole interval. Compare this value to the exact value of 2*.\n",
        "\n",
        "\n",
        "\n"
      ],
      "metadata": {
        "id": "h9yj6hgWGRxN"
      }
    },
    {
      "cell_type": "code",
      "source": [
        "import numpy as np\n",
        "\n",
        "a = 0\n",
        "b = np.pi\n",
        "n = 13\n",
        "h = (b-a)/(n-1)\n",
        "x = np.linspace(a,b,n)\n",
        "f = np.sin(x)\n",
        "\n",
        "SimpsonIntegral = (h/3) * (f[0] +2*sum(f[:n-2:2]) \\\n",
        "                    + 4*sum(f[1:n-1:2]) + f[n-1])\n",
        "\n",
        "SimpsonError = 2 - SimpsonIntegral\n",
        "\n",
        "print(SimpsonIntegral)\n",
        "print(SimpsonError)"
      ],
      "metadata": {
        "colab": {
          "base_uri": "https://localhost:8080/"
        },
        "id": "UZG1OiZEHqAZ",
        "outputId": "530c10f3-dbfa-4fe5-ca4f-62a882370a94"
      },
      "execution_count": 13,
      "outputs": [
        {
          "output_type": "stream",
          "name": "stdout",
          "text": [
            "2.0000526243411856\n",
            "-5.26243411855809e-05\n"
          ]
        }
      ]
    },
    {
      "cell_type": "markdown",
      "source": [
        "**21.5: Computing Integrals in Python**\n",
        "\n",
        "Python have packages you can acess to approximate a definite integral using the *$scipy.integrate$* sub-package.\n",
        "\n",
        "\n",
        "---\n",
        "\n",
        "\n",
        "\n",
        "> *Approximate $\\int_0^{\\pi}sin(x)dx$ for 13 equally spaced points over the whole interval using Trapezoid Rule.*\n",
        "\n"
      ],
      "metadata": {
        "id": "k84Mi3wRJ92H"
      }
    },
    {
      "cell_type": "code",
      "source": [
        "import numpy as np\n",
        "from scipy.integrate import trapz\n",
        "\n",
        "a = 0\n",
        "b = np.pi\n",
        "n = 13\n",
        "h = (b - a) / (n - 1)\n",
        "x = np.linspace(a, b, n)\n",
        "f = np.sin(x)\n",
        "\n",
        "TrapzIntegral = trapz(f,x)\n",
        "TrapezoidIntegral = (h/2)*(f[0] + 2 * sum(f[1:n-1]) + f[n-1])\n",
        "\n",
        "print(TrapzIntegral)\n",
        "print(TrapezoidIntegral)"
      ],
      "metadata": {
        "colab": {
          "base_uri": "https://localhost:8080/"
        },
        "id": "1rYzelzdLs8S",
        "outputId": "e3150fb1-c021-41c1-fe81-ddf60dfd5af9"
      },
      "execution_count": 15,
      "outputs": [
        {
          "output_type": "stream",
          "name": "stdout",
          "text": [
            "1.9885637765843158\n",
            "1.9885637765843156\n"
          ]
        }
      ]
    }
  ]
}