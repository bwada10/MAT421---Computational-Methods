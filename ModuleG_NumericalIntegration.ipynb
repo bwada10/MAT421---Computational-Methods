{
  "nbformat": 4,
  "nbformat_minor": 0,
  "metadata": {
    "colab": {
      "provenance": [],
      "authorship_tag": "ABX9TyOUWMasgQVgukccU0gLe1bh",
      "include_colab_link": true
    },
    "kernelspec": {
      "name": "python3",
      "display_name": "Python 3"
    },
    "language_info": {
      "name": "python"
    }
  },
  "cells": [
    {
      "cell_type": "markdown",
      "metadata": {
        "id": "view-in-github",
        "colab_type": "text"
      },
      "source": [
        "<a href=\"https://colab.research.google.com/github/bwada10/MAT421---Computational-Methods/blob/main/ModuleG_NumericalIntegration.ipynb\" target=\"_parent\"><img src=\"https://colab.research.google.com/assets/colab-badge.svg\" alt=\"Open In Colab\"/></a>"
      ]
    },
    {
      "cell_type": "markdown",
      "source": [
        "**Chapter 21 - Numerical Integration**\n",
        "\n",
        "**Numerical Integraion** is a method to approximate the definite integral of a function. The objective is to approximate the \"area under the curve\".\n",
        "\n",
        "\n",
        "---\n",
        "\n",
        "\n",
        "\n",
        "**21.1: Numerical Integration Problem Statement:**\n",
        "\n",
        " Given a function $f(x)$, we want to approximate the integral of $f(x)$ over the total interval, $[a,b]$. We use a numeral grid, $x$, of $n+1$ points with spacing $h=\\frac{(b-a)}{n}$ to approximate the area under the curve of $f(x)$ within each **subinterval**, $[x_i, x_{i+_1}]$. We assume we have a function, $f(x)$, that can be computed or are given the value for each point on the grid. "
      ],
      "metadata": {
        "id": "TUXjWZRTS3Ud"
      }
    },
    {
      "cell_type": "markdown",
      "source": [
        "**21.2: Riemanns Integral:**\n",
        "\n",
        "**Riemann Integral** is the simplest method for approximating integrals by summing the area of the curve using rectangles that are defined for each subinterval. The width of the rectangle is $x_{i+1} -x_i = h$, and the height is defined by the function value $f(x)$ for some $x$ in the subinterval.\n",
        "\n",
        "The following expression is the **Left & Right Riemann Integrals**:\n",
        "\n",
        "$\\int_a^b f(x)dx ≈ \\sum_{i=0}^{n-1}hf(x_i)$ \n",
        "\n",
        "or\n",
        "\n",
        "$\\int_a^b f(x)dx ≈ \\sum_{i=1}^{n}hf(x_i)$ \n",
        "\n",
        "\n",
        "\n",
        "---\n",
        "\n",
        "*Approximate $∫_0^πsin(x)dx$ with 15 evenly spaced grid points over the interval using the left Riemann Integral and right Riemann Integral:*"
      ],
      "metadata": {
        "id": "j6AIVT5qZpgY"
      }
    },
    {
      "cell_type": "code",
      "source": [
        "import numpy as np\n",
        "\n",
        "a = 0   \n",
        "b = np.pi \n",
        "n = 15\n",
        "h = (b - a) / (n - 1)\n",
        "x = np.linspace(a, b, n)\n",
        "f = np.sin(x)\n",
        "\n",
        "LeftRiemann = h * sum(f[:n-1])\n",
        "LeftError = 2 - LeftRiemann\n",
        "\n",
        "RightRiemann = h * sum(f[1::])\n",
        "RightError = 2 - RightRiemann\n",
        "\n",
        "\n",
        "print(LeftRiemann)\n",
        "print(LeftError)\n",
        "\n",
        "print(RightRiemann)\n",
        "print(RightError)\n"
      ],
      "metadata": {
        "colab": {
          "base_uri": "https://localhost:8080/"
        },
        "id": "ydP5tfPBdqRp",
        "outputId": "f49912b6-c683-48c4-f436-7962d237a24a"
      },
      "execution_count": 7,
      "outputs": [
        {
          "output_type": "stream",
          "name": "stdout",
          "text": [
            "1.9916004273550743\n",
            "0.008399572644925746\n",
            "1.9916004273550743\n",
            "0.008399572644925746\n"
          ]
        }
      ]
    },
    {
      "cell_type": "markdown",
      "source": [
        "**21.3: Trapezoid Rule:**\n",
        "\n",
        "The **Trapezoid Rule** fits a trapezoid into each subinterval instead of rectangles and sum up the areas of the trapezoids to approximate the total integral. The area of a trapezoid is calculated with corners at $(x_i, 0)$, $(x_{i+1}, 0)$, $(x_i, f(x_i))$, and $(x_{i+1}, f(x_{i+1}))$, which is $h\\frac{f(x_i)+f(x_{i+1})}{2}$.\n",
        "\n",
        "The following expression is the **Trapezoid Rule**:\n",
        "\n",
        "$\\int_a^bf(x)dx≈\\sum_{i=0}^{n-1}h\\frac{f(x_i)+f(x_{i+1})}{2}$\n",
        "\n",
        "\n",
        "---\n",
        "\n",
        "\n",
        "*Approximate $∫_0^πsin(x)dx$ with 15 evenly spaced grid points over the interval using the Trapezoid Rule:* "
      ],
      "metadata": {
        "id": "lCigZJnnesbj"
      }
    },
    {
      "cell_type": "code",
      "source": [
        "import numpy as np\n",
        "\n",
        "a = 0\n",
        "b = np.pi\n",
        "n = 15\n",
        "h = (b - a) / (n - 1)\n",
        "x = np.linspace(a, b, n)\n",
        "f = np.sin(x)\n",
        "\n",
        "Trapezoid = (h/2)*(f[0] + \\\n",
        "          2 * sum(f[1:n-1]) + f[n-1])\n",
        "TrapezoidError = 2 - Trapezoid\n",
        "\n",
        "print(Trapezoid)\n",
        "print(TrapezoidError)"
      ],
      "metadata": {
        "colab": {
          "base_uri": "https://localhost:8080/"
        },
        "id": "mlLsqKqjhSsi",
        "outputId": "9e92a285-4a8a-45b4-e35b-ad94382726bb"
      },
      "execution_count": 8,
      "outputs": [
        {
          "output_type": "stream",
          "name": "stdout",
          "text": [
            "1.9916004273550743\n",
            "0.008399572644925746\n"
          ]
        }
      ]
    }
  ]
}