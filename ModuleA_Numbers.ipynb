{
  "nbformat": 4,
  "nbformat_minor": 0,
  "metadata": {
    "colab": {
      "provenance": []
    },
    "kernelspec": {
      "name": "python3",
      "display_name": "Python 3"
    },
    "language_info": {
      "name": "python"
    }
  },
  "cells": [
    {
      "cell_type": "markdown",
      "source": [
        "**Chapter 9: Representation of Numbers**\n",
        "\n",
        "***9.1: Base - N and Binary***\n",
        "\n",
        "**Base2** or **Binary numbers** are important for computers to represent numbers. Binary numbers are either **0** or **1**, and each digit is the coefficient of **2**. \n",
        "\n",
        "*Note: Digits in binary numbers are also known as **bit**.*\n",
        "\n",
        "---\n",
        "\n",
        "Let's convert 21 (base10) and 15 (base10) to binary then add and multiply the resulting the binary numbers.\n",
        "\n",
        ">***21 (base10):***\n",
        "\n",
        "\n",
        "\n"
      ],
      "metadata": {
        "id": "r664eaGu_rJJ"
      }
    },
    {
      "cell_type": "code",
      "source": [
        "bin(21) #Converts 21 (base10) to binary."
      ],
      "metadata": {
        "colab": {
          "base_uri": "https://localhost:8080/",
          "height": 35
        },
        "id": "pRhcOImVrES_",
        "outputId": "003fe3f7-4849-4a8d-d337-897f340a16fe"
      },
      "execution_count": null,
      "outputs": [
        {
          "output_type": "execute_result",
          "data": {
            "text/plain": [
              "'0b10101'"
            ],
            "application/vnd.google.colaboratory.intrinsic+json": {
              "type": "string"
            }
          },
          "metadata": {},
          "execution_count": 17
        }
      ]
    },
    {
      "cell_type": "markdown",
      "source": [
        "\n",
        "\n",
        "\n",
        "> ***15 (base10):***\n",
        "\n",
        "\n"
      ],
      "metadata": {
        "id": "hye9Urlrr2B9"
      }
    },
    {
      "cell_type": "code",
      "source": [
        "bin(15) #Converts 15 (base10) to binary."
      ],
      "metadata": {
        "colab": {
          "base_uri": "https://localhost:8080/",
          "height": 35
        },
        "id": "tFWx4PSFr4gL",
        "outputId": "e392405f-e565-47ab-ced8-b199fce49fa0"
      },
      "execution_count": null,
      "outputs": [
        {
          "output_type": "execute_result",
          "data": {
            "text/plain": [
              "'0b1111'"
            ],
            "application/vnd.google.colaboratory.intrinsic+json": {
              "type": "string"
            }
          },
          "metadata": {},
          "execution_count": 2
        }
      ]
    },
    {
      "cell_type": "markdown",
      "source": [
        "Here we will add the binary numbers we converted:\n",
        "\n",
        "\n"
      ],
      "metadata": {
        "id": "kzdZ8iJTsurB"
      }
    },
    {
      "cell_type": "code",
      "source": [
        "x = 0b10101 #Set 'x' as binary of 21.\n",
        "y = 0b1111 #Set 'y' as binary of 15.\n",
        "sum = x + y #Storing the calculated value of 'x' & 'y' in 'sum'.\n",
        "print(f\"{sum:b}\") #Print the sum of 'x' & 'y'."
      ],
      "metadata": {
        "colab": {
          "base_uri": "https://localhost:8080/"
        },
        "id": "ThnoV85xtruM",
        "outputId": "e254d5fd-b9f2-4e82-ea4a-8fac4aa7311e"
      },
      "execution_count": null,
      "outputs": [
        {
          "output_type": "stream",
          "name": "stdout",
          "text": [
            "100100\n"
          ]
        }
      ]
    },
    {
      "cell_type": "markdown",
      "source": [
        "Here we will multiply the binary numbers we converted:"
      ],
      "metadata": {
        "id": "8nacBvYA23zx"
      }
    },
    {
      "cell_type": "code",
      "source": [
        "x = 0b10101 #Set 'x' as binary of 21.\n",
        "y = 0b1111 #Set 'y' as binary of 15.\n",
        "product = x * y #Storing the calculated value of 'x' & 'y' in 'product'.\n",
        "print(f\"{product:b}\") #Print the product of 'x' & 'y'."
      ],
      "metadata": {
        "colab": {
          "base_uri": "https://localhost:8080/"
        },
        "id": "K0FT9f733CVa",
        "outputId": "fe2fcfc7-97cf-4f7c-9f6d-a7b6d9960914"
      },
      "execution_count": null,
      "outputs": [
        {
          "output_type": "stream",
          "name": "stdout",
          "text": [
            "100111011\n"
          ]
        }
      ]
    },
    {
      "cell_type": "markdown",
      "source": [
        "***9.2: Floating Point Numbers***\n",
        "\n",
        "**Floating Point** numbers or **Float** allow us to achieve the range of values with the same number of bits. Floats allocate bits to three different parts: **sign indicator**, **s**, (whether a number is positive or negative), **characteristic** or **exponent**, **e**, and the **fraction**, **f**.\n",
        "\n",
        "Float for 64 bit:\n",
        "\n",
        "n = (-1)^s * 2^(e-1023) * (1 + f).\n",
        "\n",
        "---\n",
        "\n",
        "We can get float information in Python using system package:"
      ],
      "metadata": {
        "id": "POs7nBbM3eAQ"
      }
    },
    {
      "cell_type": "code",
      "source": [
        "import sys\n",
        "sys.float_info"
      ],
      "metadata": {
        "colab": {
          "base_uri": "https://localhost:8080/"
        },
        "id": "uWq-H4y_6ed1",
        "outputId": "f75e6f8f-5a62-4cbb-91dd-a1771ad01105"
      },
      "execution_count": 4,
      "outputs": [
        {
          "output_type": "execute_result",
          "data": {
            "text/plain": [
              "sys.float_info(max=1.7976931348623157e+308, max_exp=1024, max_10_exp=308, min=2.2250738585072014e-308, min_exp=-1021, min_10_exp=-307, dig=15, mant_dig=53, epsilon=2.220446049250313e-16, radix=2, rounds=1)"
            ]
          },
          "metadata": {},
          "execution_count": 4
        }
      ]
    },
    {
      "cell_type": "markdown",
      "source": [
        "Since the fraction is multiplied by 2^(e-1023), the distance from one number to another number, the **gap**, grows as the numbers represented grows. We can calculate the gap using python function *spacing* in *numpy*."
      ],
      "metadata": {
        "id": "OLjxBCFJ6hAe"
      }
    },
    {
      "cell_type": "code",
      "source": [
        "import numpy as np\n",
        "np.spacing(1e8) #Determines the gap at 1e8.\n",
        "1e8 == (1e8 + np.spacing(1e8)/3)  #Verifies that adding a number to 1e8 that is less than half the gap at 1e8 results in the same number."
      ],
      "metadata": {
        "colab": {
          "base_uri": "https://localhost:8080/"
        },
        "id": "9milQhB8BmPG",
        "outputId": "0ff221d5-5728-4231-a115-5f28f6328154"
      },
      "execution_count": 1,
      "outputs": [
        {
          "output_type": "execute_result",
          "data": {
            "text/plain": [
              "True"
            ]
          },
          "metadata": {},
          "execution_count": 1
        }
      ]
    },
    {
      "cell_type": "markdown",
      "source": [
        "In python, when numbers that are larger than the largest representabble floating point number result in **overflow** and vice versa for **underflow**, where numbers that are smaller than the smallest subnormal number.\n",
        "\n",
        "For overflow, python assigns the result to ***inf*** and for underflow it assign the result to ***0***."
      ],
      "metadata": {
        "id": "t4pcnZLACD1u"
      }
    },
    {
      "cell_type": "code",
      "source": [
        "sys.float_info.max  #Largest representable floating number"
      ],
      "metadata": {
        "colab": {
          "base_uri": "https://localhost:8080/"
        },
        "id": "jH55eJxsDE62",
        "outputId": "a90a3a1e-f4b5-4383-f9d7-56d30500fd41"
      },
      "execution_count": 5,
      "outputs": [
        {
          "output_type": "execute_result",
          "data": {
            "text/plain": [
              "1.7976931348623157e+308"
            ]
          },
          "metadata": {},
          "execution_count": 5
        }
      ]
    },
    {
      "cell_type": "code",
      "source": [
        "sys.float_info.max + sys.float_info.max #Adding two largest representable floating number together results in overflow"
      ],
      "metadata": {
        "colab": {
          "base_uri": "https://localhost:8080/"
        },
        "id": "ITXKxjk5D1yg",
        "outputId": "7987954a-b324-4a80-dcce-1da42ef24b19"
      },
      "execution_count": 6,
      "outputs": [
        {
          "output_type": "execute_result",
          "data": {
            "text/plain": [
              "inf"
            ]
          },
          "metadata": {},
          "execution_count": 6
        }
      ]
    },
    {
      "cell_type": "code",
      "source": [
        "2**(-1090)  #2^(-1074) is the smallest subnormal number where 2^(-1090) is less than 2^(-1074) resulting in underflow"
      ],
      "metadata": {
        "colab": {
          "base_uri": "https://localhost:8080/"
        },
        "id": "ToEp9l4EECVy",
        "outputId": "3e274ce7-bc55-4c61-c4da-471ba2efb89a"
      },
      "execution_count": 7,
      "outputs": [
        {
          "output_type": "execute_result",
          "data": {
            "text/plain": [
              "0.0"
            ]
          },
          "metadata": {},
          "execution_count": 7
        }
      ]
    },
    {
      "cell_type": "markdown",
      "source": [
        "***9.3: Round-off Errors***\n",
        "\n",
        "Floating numbers can't be stored with absolute precision, so the numbers are approximated by finite number of bytes. This results in a **round-off error** where the difference between the approximation and the correct value is taken.\n",
        "\n",
        "---\n",
        "\n",
        "Here is an example of round-off errors:"
      ],
      "metadata": {
        "id": "FWJd7BQDE3_i"
      }
    },
    {
      "cell_type": "code",
      "source": [
        "5 - 4.55 == 0.45  #Clearly, 5 - 4.55 = 0.45, but in python it doesn't recognize that"
      ],
      "metadata": {
        "colab": {
          "base_uri": "https://localhost:8080/"
        },
        "id": "Sq31t7CtF7ZE",
        "outputId": "e69688a8-ab84-4812-aef4-182ca849b9d1"
      },
      "execution_count": 9,
      "outputs": [
        {
          "output_type": "execute_result",
          "data": {
            "text/plain": [
              "False"
            ]
          },
          "metadata": {},
          "execution_count": 9
        }
      ]
    },
    {
      "cell_type": "code",
      "source": [
        "5 - 4.55  #Here is the approximation from python where we can see the small error"
      ],
      "metadata": {
        "colab": {
          "base_uri": "https://localhost:8080/"
        },
        "id": "CbPFucL8GWcj",
        "outputId": "68af0108-f28c-4c13-d7d4-bf8614766bbe"
      },
      "execution_count": 10,
      "outputs": [
        {
          "output_type": "execute_result",
          "data": {
            "text/plain": [
              "0.4500000000000002"
            ]
          },
          "metadata": {},
          "execution_count": 10
        }
      ]
    },
    {
      "cell_type": "markdown",
      "source": [
        "Here is another example of round-off error:"
      ],
      "metadata": {
        "id": "nrRMOCvMGq6x"
      }
    },
    {
      "cell_type": "code",
      "source": [
        "0.1 + 0.2 + 0.3 == 0.6"
      ],
      "metadata": {
        "colab": {
          "base_uri": "https://localhost:8080/"
        },
        "id": "1Evx66NiGtjI",
        "outputId": "d163280d-cbc4-4eef-cbe1-35f40ad8e432"
      },
      "execution_count": 11,
      "outputs": [
        {
          "output_type": "execute_result",
          "data": {
            "text/plain": [
              "False"
            ]
          },
          "metadata": {},
          "execution_count": 11
        }
      ]
    },
    {
      "cell_type": "code",
      "source": [
        "0.1 + 0.2 + 0.3"
      ],
      "metadata": {
        "colab": {
          "base_uri": "https://localhost:8080/"
        },
        "id": "MFkZ5JsuGx7E",
        "outputId": "5f6dbe3a-ca10-48e7-ebb8-94dcb77d202b"
      },
      "execution_count": 12,
      "outputs": [
        {
          "output_type": "execute_result",
          "data": {
            "text/plain": [
              "0.6000000000000001"
            ]
          },
          "metadata": {},
          "execution_count": 12
        }
      ]
    },
    {
      "cell_type": "markdown",
      "source": [
        "We can fix this issue by using the \"round()\" function in python:"
      ],
      "metadata": {
        "id": "052wrUO_G5I5"
      }
    },
    {
      "cell_type": "code",
      "source": [
        "round(0.1 + 0.2 + 0.3, 2) == round(0.6, 2)"
      ],
      "metadata": {
        "colab": {
          "base_uri": "https://localhost:8080/"
        },
        "id": "KvOcVNzFG9Xo",
        "outputId": "b652e6ac-2828-4f2a-f3a2-8322c759791d"
      },
      "execution_count": 14,
      "outputs": [
        {
          "output_type": "execute_result",
          "data": {
            "text/plain": [
              "True"
            ]
          },
          "metadata": {},
          "execution_count": 14
        }
      ]
    },
    {
      "cell_type": "markdown",
      "source": [
        "We can amplify the round-off error by adding and subtracting a number from the initial value we set:"
      ],
      "metadata": {
        "id": "TjvaCnjCHWe-"
      }
    },
    {
      "cell_type": "code",
      "source": [
        "def add_and_subtract(iterations): #Define the function\n",
        "    result = 5\n",
        "    \n",
        "    for i in range(iterations): #For loop to add 1/2 based on the number of interations\n",
        "        result += 1/3\n",
        "\n",
        "    for i in range(iterations): #For loop to subtract 1/2 based on the number of interations\n",
        "        result -= 1/3\n",
        "    return result"
      ],
      "metadata": {
        "id": "P_9rCRDvHuSF"
      },
      "execution_count": 22,
      "outputs": []
    },
    {
      "cell_type": "code",
      "source": [
        "add_and_subtract(1000)  #Run the function 1000 times"
      ],
      "metadata": {
        "colab": {
          "base_uri": "https://localhost:8080/"
        },
        "id": "Qq2qX3xsH4KK",
        "outputId": "9fcb2884-b458-4bb6-93bf-be584a2cd74f"
      },
      "execution_count": 23,
      "outputs": [
        {
          "output_type": "execute_result",
          "data": {
            "text/plain": [
              "5.000000000000006"
            ]
          },
          "metadata": {},
          "execution_count": 23
        }
      ]
    },
    {
      "cell_type": "code",
      "source": [
        "add_and_subtract(10000) #Run the function 10000 times"
      ],
      "metadata": {
        "colab": {
          "base_uri": "https://localhost:8080/"
        },
        "id": "tvlj0PcTIC6P",
        "outputId": "23a23a58-bef6-43f4-b5e2-b2b846cfa085"
      },
      "execution_count": 24,
      "outputs": [
        {
          "output_type": "execute_result",
          "data": {
            "text/plain": [
              "5.000000000000116"
            ]
          },
          "metadata": {},
          "execution_count": 24
        }
      ]
    },
    {
      "cell_type": "markdown",
      "source": [
        "As seen above, the round-off error increases as the number of interations we do."
      ],
      "metadata": {
        "id": "dsdBy5dCIeDJ"
      }
    }
  ]
}